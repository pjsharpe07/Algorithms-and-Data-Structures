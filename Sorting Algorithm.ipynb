{
 "cells": [
  {
   "cell_type": "code",
   "execution_count": 1,
   "metadata": {},
   "outputs": [],
   "source": [
    "import time\n",
    "import random\n",
    "\n",
    "# Set seed.\n",
    "random.seed(a=100)\n",
    "\n",
    "# Create our default list.\n",
    "short_list = list(random.sample(range(1000000), 10))\n",
    "long_list = list(random.sample(range(1000000), 10000))"
   ]
  },
  {
   "cell_type": "code",
   "execution_count": 65,
   "metadata": {
    "scrolled": true
   },
   "outputs": [
    {
     "data": {
      "text/plain": [
       "[1, 2, 3, 3, 4, 5, 5, 6]"
      ]
     },
     "execution_count": 65,
     "metadata": {},
     "output_type": "execute_result"
    }
   ],
   "source": [
    "test = [5, 2, 4, 6, 1, 3, 3, 5]\n",
    "\n",
    "def selection_sort(lst):\n",
    "    org_lst = lst.copy()\n",
    "    new_lst = []\n",
    "    \n",
    "    for i in range(len(lst)):\n",
    "        #append the minimum value\n",
    "        new_lst.append(min(org_lst))\n",
    "        \n",
    "        #remove it from the list\n",
    "        org_lst.remove(min(org_lst))\n",
    "        \n",
    "    return new_lst\n",
    "        \n",
    "selection_sort(test)"
   ]
  },
  {
   "cell_type": "code",
   "execution_count": 67,
   "metadata": {},
   "outputs": [
    {
     "name": "stdout",
     "output_type": "stream",
     "text": [
      "My sorted algorithm is [1, 2, 3, 3, 4, 5, 5, 6]\n",
      "The end result should be [1, 2, 3, 3, 4, 5, 5, 6]\n",
      "GOOD JOB!\n"
     ]
    }
   ],
   "source": [
    "sort_test = sorted(test)\n",
    "\n",
    "print('My sorted algorithm is {}'.format(selection_sort(test)))\n",
    "print('The end result should be {}'.format(sort_test))\n",
    "\n",
    "if (selection_sort(test) == sort_test):\n",
    "    print('GOOD JOB!')"
   ]
  },
  {
   "cell_type": "code",
   "execution_count": 71,
   "metadata": {},
   "outputs": [
    {
     "name": "stdout",
     "output_type": "stream",
     "text": [
      "Ran in 0.0 seconds\n",
      "[152745, 183236, 366725, 412125, 477025, 481850, 739784, 767514, 808225, 997948]\n"
     ]
    }
   ],
   "source": [
    "# Start the timer.\n",
    "start_time = time.time()\n",
    "\n",
    "# Run our insertion sort.\n",
    "selection_sort(short_list)\n",
    "\n",
    "# Print time to show runtime.\n",
    "print('Ran in {} seconds'.format(time.time() - start_time))\n",
    "print(selection_sort(short_list))"
   ]
  },
  {
   "cell_type": "code",
   "execution_count": 72,
   "metadata": {},
   "outputs": [
    {
     "name": "stdout",
     "output_type": "stream",
     "text": [
      "Ran in 2.116715431213379 seconds\n",
      "[152745, 183236, 366725, 412125, 477025, 481850, 739784, 767514, 808225, 997948]\n"
     ]
    }
   ],
   "source": [
    "# Start the timer.\n",
    "start_time = time.time()\n",
    "\n",
    "# Run our insertion sort.\n",
    "selection_sort(long_list)\n",
    "\n",
    "# Print time to show runtime.\n",
    "print('Ran in {} seconds'.format(time.time() - start_time))\n",
    "print(selection_sort(short_list))"
   ]
  }
 ],
 "metadata": {
  "kernelspec": {
   "display_name": "Python 3",
   "language": "python",
   "name": "python3"
  },
  "language_info": {
   "codemirror_mode": {
    "name": "ipython",
    "version": 3
   },
   "file_extension": ".py",
   "mimetype": "text/x-python",
   "name": "python",
   "nbconvert_exporter": "python",
   "pygments_lexer": "ipython3",
   "version": "3.7.4"
  }
 },
 "nbformat": 4,
 "nbformat_minor": 2
}
