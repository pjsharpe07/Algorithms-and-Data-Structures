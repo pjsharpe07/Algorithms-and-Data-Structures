{
 "cells": [
  {
   "cell_type": "code",
   "execution_count": 1,
   "metadata": {},
   "outputs": [],
   "source": [
    "import numpy as np"
   ]
  },
  {
   "cell_type": "markdown",
   "metadata": {},
   "source": [
    "__Problem 1: Multiples of 3 and 5__"
   ]
  },
  {
   "cell_type": "code",
   "execution_count": 2,
   "metadata": {},
   "outputs": [
    {
     "name": "stdout",
     "output_type": "stream",
     "text": [
      "23\n",
      "233168\n"
     ]
    }
   ],
   "source": [
    "def three_five(number):\n",
    "    lst = []\n",
    "    #check if number is divisible by 3 or 5\n",
    "    for i in range(1, number):\n",
    "        if i % 3 == 0 or i % 5 == 0:\n",
    "            #append that number to the  list\n",
    "            lst.append(i)\n",
    "            \n",
    "    #return the sum\n",
    "    return np.sum(lst)\n",
    "    \n",
    "print(three_five(10))\n",
    "print(three_five(1000))"
   ]
  },
  {
   "cell_type": "markdown",
   "metadata": {},
   "source": [
    "__Problem 2: Even Fibonacci Sequence__"
   ]
  },
  {
   "cell_type": "code",
   "execution_count": 3,
   "metadata": {},
   "outputs": [
    {
     "data": {
      "text/plain": [
       "4613732"
      ]
     },
     "execution_count": 3,
     "metadata": {},
     "output_type": "execute_result"
    }
   ],
   "source": [
    "def even_fib(value):\n",
    "    #starting values\n",
    "    sequence = [1, 2]\n",
    "    \n",
    "    #final list to sum at the end\n",
    "    final_list = []\n",
    "    \n",
    "    #generate fib sequence of numbers\n",
    "    while sequence[-1] < value:\n",
    "        \n",
    "        #check to see if last value is even and append to final if it is\n",
    "        if (sequence[-1] % 2 == 0):\n",
    "            final_list.append(sequence[-1])\n",
    "            \n",
    "        #append the last digit\n",
    "        sequence.append(sequence[-2] + sequence[-1])\n",
    "        \n",
    "    return(np.sum(final_list))\n",
    "    \n",
    "even_fib(4000000)"
   ]
  },
  {
   "cell_type": "markdown",
   "metadata": {},
   "source": [
    "__Problem 3: Largest Prime Factor__"
   ]
  },
  {
   "cell_type": "markdown",
   "metadata": {},
   "source": [
    "__Used [this](https://stackoverflow.com/questions/15285534/isprime-function-for-python-language) Stack Overflow question/answer for help.__"
   ]
  },
  {
   "cell_type": "code",
   "execution_count": 4,
   "metadata": {},
   "outputs": [
    {
     "name": "stdout",
     "output_type": "stream",
     "text": [
      "29\n",
      "6857\n"
     ]
    }
   ],
   "source": [
    "def isPrime(n):\n",
    "    if (n == 2 or n == 3): \n",
    "        return True\n",
    "    \n",
    "    if (n % 2 == 0 or n < 2): \n",
    "        return False\n",
    "    \n",
    "    for i in range(3, int(n**0.5)+1 ,2):   # only odd numbers\n",
    "        if (n % i == 0):\n",
    "            return False\n",
    "\n",
    "    return True\n",
    "\n",
    "def largest_prime(value):\n",
    "    final_list = [2, 3]\n",
    "    \n",
    "    number = int(value / 2)\n",
    "    \n",
    "    for num in range(final_list[-1], number, 2):\n",
    "        if (num % 100000 == 0):\n",
    "            print('On value {}'.format(num))\n",
    "        \n",
    "        if (value % num == 0):\n",
    "            if (isPrime(num)):\n",
    "                final_list.append(num)\n",
    "    \n",
    "    return final_list[-1]\n",
    "\n",
    "print(largest_prime(13195))\n",
    "print(largest_prime(600851475143))"
   ]
  },
  {
   "cell_type": "markdown",
   "metadata": {},
   "source": [
    "__Problem 4: Palindromic Number__"
   ]
  },
  {
   "cell_type": "code",
   "execution_count": 40,
   "metadata": {},
   "outputs": [
    {
     "name": "stdout",
     "output_type": "stream",
     "text": [
      "906609\n"
     ]
    }
   ],
   "source": [
    "#function to check if the number is a palindrome\n",
    "def is_pali(value):\n",
    "    #our final value forwards and backwards\n",
    "    forwards = []\n",
    "    backwards = []\n",
    "    \n",
    "    #append value forwards and backwards\n",
    "    for i in range(len(str(value))):\n",
    "        word = str(value)\n",
    "        forwards.append(word[i])\n",
    "        backwards.append(word[-i - 1]) #starts at 0, but needs to start at -1 for reverse\n",
    "        \n",
    "    return forwards == backwards\n",
    "\n",
    "answer = []\n",
    "\n",
    "first_mult = 999\n",
    "second_mult = 999\n",
    "\n",
    "while second_mult >= 100:    \n",
    "    number = first_mult * second_mult\n",
    "    \n",
    "    if is_pali(number):\n",
    "        answer.append(number)\n",
    "    \n",
    "    if first_mult < 100:\n",
    "        first_mult = 999\n",
    "        second_mult -= 1\n",
    "    \n",
    "    first_mult -= 1\n",
    "        \n",
    "print(max(answer))"
   ]
  },
  {
   "cell_type": "markdown",
   "metadata": {},
   "source": [
    "__Problem 6: Squared Sums__"
   ]
  },
  {
   "cell_type": "code",
   "execution_count": 12,
   "metadata": {},
   "outputs": [
    {
     "name": "stdout",
     "output_type": "stream",
     "text": [
      "2640\n",
      "25164150\n"
     ]
    }
   ],
   "source": [
    "def squared_difference(value):\n",
    "    \n",
    "    squared_sum = 0\n",
    "    \n",
    "    for number in range(value + 1):\n",
    "        squared_sum = squared_sum + number**2\n",
    "        \n",
    "    sum_squared = 0\n",
    "    \n",
    "    for number in range(value + 1):\n",
    "        sum_squared += number\n",
    "        \n",
    "    return sum_squared**2 - squared_sum\n",
    "\n",
    "print(squared_difference(10))\n",
    "print(squared_difference(100))"
   ]
  },
  {
   "cell_type": "markdown",
   "metadata": {},
   "source": [
    "__Problem 8: Largest Product__"
   ]
  },
  {
   "cell_type": "code",
   "execution_count": 27,
   "metadata": {},
   "outputs": [
    {
     "name": "stdout",
     "output_type": "stream",
     "text": [
      "23514624000\n"
     ]
    }
   ],
   "source": [
    "number = 7316717653133062491922511967442657474235534919493496983520312774506326239578318016984801869478851843858615607891129494954595017379583319528532088055111254069874715852386305071569329096329522744304355766896648950445244523161731856403098711121722383113622298934233803081353362766142828064444866452387493035890729629049156044077239071381051585930796086670172427121883998797908792274921901699720888093776657273330010533678812202354218097512545405947522435258490771167055601360483958644670632441572215539753697817977846174064955149290862569321978468622482839722413756570560574902614079729686524145351004748216637048440319989000889524345065854122758866688116427171479924442928230863465674813919123162824586178664583591245665294765456828489128831426076900422421902267105562632111110937054421750694165896040807198403850962455444362981230987879927244284909188845801561660979191338754992005240636899125607176060588611646710940507754100225698315520005593572972571636269561882670428252483600823257530420752963450\n",
    "\n",
    "string = str(number)\n",
    "\n",
    "#final product to return\n",
    "product = 1\n",
    "\n",
    "for i in range(len(string) - 13):\n",
    "    #13 numbers in a row\n",
    "    values = string[i: i+ 13]\n",
    "    \n",
    "    #value to continuously evaluate\n",
    "    temp_product= 1\n",
    "    \n",
    "    #find our 13 digit product\n",
    "    for value in values:\n",
    "        temp_product *= int(value)\n",
    "    \n",
    "    if temp_product > product:\n",
    "        product = temp_product\n",
    "        \n",
    "print(product)"
   ]
  },
  {
   "cell_type": "markdown",
   "metadata": {},
   "source": [
    "__Problem 10: Sum Primes__"
   ]
  },
  {
   "cell_type": "code",
   "execution_count": 37,
   "metadata": {},
   "outputs": [
    {
     "name": "stdout",
     "output_type": "stream",
     "text": [
      "142913828922\n"
     ]
    }
   ],
   "source": [
    "def is_prime(num):\n",
    "    if (num == 2 or num == 3): \n",
    "        return True\n",
    "    \n",
    "    if (num % 2 == 0 or num < 2): \n",
    "        return False\n",
    "    \n",
    "    for i in range(3, int(num**0.5)+1 ,2):   # only odd numbers\n",
    "        if (num % i == 0):\n",
    "            return False\n",
    "\n",
    "    return True\n",
    "\n",
    "def sum_primes(value):\n",
    "    final = 0\n",
    "    \n",
    "    for number in range(value):\n",
    "        if is_prime(number):\n",
    "            final += number\n",
    "            \n",
    "    return final\n",
    "\n",
    "print(sum_primes(2000000))"
   ]
  }
 ],
 "metadata": {
  "kernelspec": {
   "display_name": "Python 3",
   "language": "python",
   "name": "python3"
  },
  "language_info": {
   "codemirror_mode": {
    "name": "ipython",
    "version": 3
   },
   "file_extension": ".py",
   "mimetype": "text/x-python",
   "name": "python",
   "nbconvert_exporter": "python",
   "pygments_lexer": "ipython3",
   "version": "3.7.4"
  }
 },
 "nbformat": 4,
 "nbformat_minor": 2
}
